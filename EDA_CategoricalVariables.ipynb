{
 "cells": [
  {
   "cell_type": "markdown",
   "id": "0ad5d90e",
   "metadata": {},
   "source": [
    "# Categorical Variables EDA"
   ]
  },
  {
   "cell_type": "code",
   "execution_count": null,
   "id": "5513d687",
   "metadata": {},
   "outputs": [],
   "source": [
    "import pandas as pd\n",
    "import matplotlib.pyplot as plt\n",
    "from textblob import TextBlob\n",
    "import numpy as np\n",
    "from nltk import word_tokenize\n",
    "from nltk.corpus import stopwords\n",
    "from nltk.tokenize import word_tokenize\n",
    "import nltk\n",
    "from sklearn.model_selection import train_test_split\n",
    "from imblearn.over_sampling import SMOTE\n",
    "from imblearn.pipeline import Pipeline\n",
    "from sklearn.preprocessing import StandardScaler\n",
    "from sklearn.linear_model import LogisticRegression\n",
    "from imblearn.over_sampling import SMOTENC\n",
    "from sklearn.metrics import classification_report\n",
    "!pip install catboost\n",
    "from catboost import CatBoostClassifier\n",
    "from sklearn.metrics import ConfusionMatrixDisplay, confusion_matrix, accuracy_score, precision_score, recall_score, f1_score, PrecisionRecallDisplay, plot_roc_curve\n",
    "nltk.download('stopwords')\n",
    "nltk.download('punkt')"
   ]
  },
  {
   "cell_type": "markdown",
   "id": "891668d9",
   "metadata": {},
   "source": [
    "## Find Number of Unique Values for Categorical Variables"
   ]
  },
  {
   "cell_type": "code",
   "execution_count": null,
   "id": "948e9c09",
   "metadata": {},
   "outputs": [],
   "source": [
    "# Categorical Variables EDA\n",
    "fake_jobs = pd.read_csv('fake_job_postings.csv') # Get Original Data\n",
    "\n",
    "# Find Number of Unique Values for Categorical Variables\n",
    "cat_vars = ['function', 'industry', 'employment_type', 'required_experience', 'location', 'department', 'required_education']\n",
    "for cat_var in cat_vars:\n",
    "    print('The number of unique values in the \"{}\" field is: {}'.format(cat_var, len(fake_jobs[cat_var].value_counts())))"
   ]
  },
  {
   "cell_type": "markdown",
   "id": "1bd52e99",
   "metadata": {},
   "source": [
    "## Get number of unique countries"
   ]
  },
  {
   "cell_type": "code",
   "execution_count": null,
   "id": "c9251ffe",
   "metadata": {},
   "outputs": [],
   "source": [
    "# Get number of unique countries\n",
    "def getCountry(location):\n",
    "    return str(location).split(',')[0]\n",
    "\n",
    "fake_jobs['country'] = fake_jobs['location'].map(getCountry)\n",
    "countries = fake_jobs['country'].value_counts()\n",
    "print('The number of unique values in the \"country\" field is: {}'.format(len(fake_jobs['country'].value_counts())))"
   ]
  },
  {
   "cell_type": "markdown",
   "id": "920d1833",
   "metadata": {},
   "source": [
    "## Plot frequencies of unique values of categorical variables"
   ]
  },
  {
   "cell_type": "code",
   "execution_count": null,
   "id": "9f3558f2",
   "metadata": {},
   "outputs": [],
   "source": [
    "# Plot frequencies of unique values of categorical variables\n",
    "fig, ax1 = plt.subplots(nrows = 6,\n",
    "                    ncols = 1,\n",
    "                    figsize=(15,60))\n",
    "ax1[0].bar(fake_jobs['function'].value_counts().index, fake_jobs['function'].value_counts(), color='blue')\n",
    "ax1[0].set_xticklabels(fake_jobs['function'].value_counts().index, rotation = 90)\n",
    "ax1[1].bar(fake_jobs['required_education'].value_counts().index, fake_jobs['required_education'].value_counts(), color='pink')\n",
    "ax1[1].set_xticklabels(fake_jobs['required_education'].value_counts().index, rotation = 90)\n",
    "ax1[2].bar(fake_jobs['employment_type'].value_counts().index, fake_jobs['employment_type'].value_counts(), color='orange')\n",
    "ax1[2].set_xticklabels(fake_jobs['employment_type'].value_counts().index, rotation = 90)\n",
    "ax1[3].bar(fake_jobs['required_experience'].value_counts().index, fake_jobs['required_experience'].value_counts(), color='red')\n",
    "ax1[3].set_xticklabels(fake_jobs['required_experience'].value_counts().index, rotation = 90)\n",
    "ax1[4].bar(fake_jobs['country'].value_counts().index, fake_jobs['country'].value_counts(), color='cornflowerblue')\n",
    "ax1[4].set_xticklabels(fake_jobs['country'].value_counts().index, rotation = 90)\n",
    "ax1[5].bar(fake_jobs['industry'].value_counts().index, fake_jobs['industry'].value_counts(), color='yellowgreen')\n",
    "ax1[5].set_xticklabels(fake_jobs['industry'].value_counts().index, rotation = 90)"
   ]
  }
 ],
 "metadata": {
  "kernelspec": {
   "display_name": "Python 3 (ipykernel)",
   "language": "python",
   "name": "python3"
  },
  "language_info": {
   "codemirror_mode": {
    "name": "ipython",
    "version": 3
   },
   "file_extension": ".py",
   "mimetype": "text/x-python",
   "name": "python",
   "nbconvert_exporter": "python",
   "pygments_lexer": "ipython3",
   "version": "3.9.12"
  }
 },
 "nbformat": 4,
 "nbformat_minor": 5
}
