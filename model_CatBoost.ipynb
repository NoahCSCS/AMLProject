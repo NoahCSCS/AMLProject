{
 "cells": [
  {
   "cell_type": "markdown",
   "id": "7a03f22d",
   "metadata": {},
   "source": [
    "# CatBoost"
   ]
  },
  {
   "cell_type": "code",
   "execution_count": null,
   "id": "23727d1b",
   "metadata": {},
   "outputs": [],
   "source": [
    "import pandas as pd\n",
    "import matplotlib.pyplot as plt\n",
    "from textblob import TextBlob\n",
    "import numpy as np\n",
    "from nltk import word_tokenize\n",
    "from nltk.corpus import stopwords\n",
    "from nltk.tokenize import word_tokenize\n",
    "import nltk\n",
    "from sklearn.model_selection import train_test_split\n",
    "from imblearn.over_sampling import SMOTE\n",
    "from imblearn.pipeline import Pipeline\n",
    "from sklearn.preprocessing import StandardScaler\n",
    "from sklearn.linear_model import LogisticRegression\n",
    "from imblearn.over_sampling import SMOTENC\n",
    "from sklearn.metrics import classification_report\n",
    "!pip install catboost\n",
    "from catboost import CatBoostClassifier\n",
    "from sklearn.metrics import ConfusionMatrixDisplay, confusion_matrix, accuracy_score, precision_score, recall_score, f1_score, PrecisionRecallDisplay, plot_roc_curve\n",
    "nltk.download('stopwords')\n",
    "nltk.download('punkt')"
   ]
  },
  {
   "cell_type": "markdown",
   "id": "d9d0bc40",
   "metadata": {},
   "source": [
    "## Read In Data"
   ]
  },
  {
   "cell_type": "code",
   "execution_count": 1,
   "id": "66899af4",
   "metadata": {},
   "outputs": [],
   "source": [
    "# READ IN DATA\n",
    "model_data_raw = pd.read_csv('fj.csv', index_col = 0)"
   ]
  },
  {
   "cell_type": "markdown",
   "id": "cb46ef56",
   "metadata": {},
   "source": [
    "## Prepare Data For Model"
   ]
  },
  {
   "cell_type": "code",
   "execution_count": null,
   "id": "357a3bca",
   "metadata": {},
   "outputs": [],
   "source": [
    "model_data_catboost = model_data_raw.copy()\n",
    "\n",
    "# Get number of unique countries\n",
    "def getCountry(location):\n",
    "    return str(location).split(',')[0]\n",
    "\n",
    "model_data_catboost['country'] = model_data_catboost['location'].map(getCountry)\n",
    "\n",
    "# droping unstructured columns\n",
    "model_data_catboost.drop(['job_id','title','salary_range','description','requirements','benefits','company_profile','posting', 'location'], axis = 1, inplace = True)\n",
    "\n",
    "# splitting data into train and test\n",
    "X = model_data_catboost.drop('fraudulent', axis = 'columns')\n",
    "y = model_data_catboost['fraudulent']\n",
    "X_train, X_test, y_train, y_test = train_test_split(X, y,\n",
    "                                                    stratify=y, \n",
    "                                                    test_size=0.20,\n",
    "                                                    random_state = 420)\n",
    "\n",
    "# categorical features\n",
    "cat_features = ['country', 'department', 'employment_type', 'required_experience', 'required_education', 'industry', 'function']\n",
    "cat_features_index = []\n",
    "for cat_feature in cat_features:\n",
    "    cat_features_index.append(X_train.columns.get_loc(cat_feature))"
   ]
  },
  {
   "cell_type": "markdown",
   "id": "35e2b88e",
   "metadata": {},
   "source": [
    "## Gridsearch for CatBoost"
   ]
  },
  {
   "cell_type": "code",
   "execution_count": null,
   "id": "e1a2190f",
   "metadata": {},
   "outputs": [],
   "source": [
    "# Source 1: https://catboost.ai/en/docs/concepts/python-usages-examples\n",
    "# Source 2: https://www.analyticsvidhya.com/blog/2017/08/catboost-automated-categorical-data/\n",
    "# Source 3: https://catboost.ai/en/docs/concepts/python-reference_catboost_grid_search#output-format\n",
    "\n",
    "classifier = CatBoostClassifier(cat_features=cat_features_index)\n",
    "\n",
    "grid = {'learning_rate': [0.01, 0.03, 0.1],\n",
    "        'iterations': [30, 50, 90],\n",
    "        'depth': [3, 6, 10],\n",
    "        'l2_leaf_reg': [1, 3, 5, 7, 9],\n",
    "        'one_hot_max_size': [10, 50, 100, 150]}\n",
    "\n",
    "grid_search_result = classifier.grid_search(grid, \n",
    "                                       X=X_train, \n",
    "                                       y=y_train, \n",
    "                                       plot=True)"
   ]
  },
  {
   "cell_type": "markdown",
   "id": "20292109",
   "metadata": {},
   "source": [
    "## Gridsearch Results"
   ]
  },
  {
   "cell_type": "code",
   "execution_count": null,
   "id": "cd8b143d",
   "metadata": {},
   "outputs": [],
   "source": [
    "\"\"\"\n",
    "{'depth': 10,\n",
    " 'one_hot_max_size': 100,\n",
    " 'l2_leaf_reg': 3,\n",
    " 'iterations': 90,\n",
    " 'learning_rate': 0.1}\n",
    "\"\"\"\n",
    "\"\"\"\n",
    "best_depth = 10\n",
    "best_OHMS = 100\n",
    "best_12leaf = 3\n",
    "best_iterations = 90\n",
    "best_learning_rate = 0.1\n",
    "\"\"\"\n",
    "grid_search_result\n",
    "best_depth = grid_search_result['params']['depth']\n",
    "best_OHMS = grid_search_result['params']['one_hot_max_size']\n",
    "best_12leaf = grid_search_result['params']['l2_leaf_reg']\n",
    "best_iterations = grid_search_result['params']['iterations']\n",
    "best_learning_rate = grid_search_result['params']['learning_rate']\n",
    "grid_search_result['params']"
   ]
  },
  {
   "cell_type": "markdown",
   "id": "50d4116a",
   "metadata": {},
   "source": [
    "## Run CatBoost Classifier\n",
    "With the tuned parameters."
   ]
  },
  {
   "cell_type": "code",
   "execution_count": null,
   "id": "024f5e2f",
   "metadata": {},
   "outputs": [],
   "source": [
    "# defining classifier\n",
    "classifier = CatBoostClassifier(iterations=best_iterations, depth=best_depth, learning_rate=best_learning_rate, l2_leaf_reg=best_12leaf, cat_features=cat_features_index, one_hot_max_size=best_OHMS)\n",
    "\n",
    "# Fit model\n",
    "classifier.fit(X_train, y_train, silent=True)\n",
    "# Get predicted classes\n",
    "y_hat = classifier.predict(X_test)\n",
    "# Get predicted probabilities for each class\n",
    "y_pred_proba = classifier.predict_proba(X_test)\n",
    "# Get predicted RawFormulaVal\n",
    "preds_raw = classifier.predict(X_test, prediction_type='RawFormulaVal')\n",
    "\n",
    "# Find errors\n",
    "results_report = classification_report(y_test,y_hat)\n",
    "\n",
    "# Confusion Matrix\n",
    "print(confusion_matrix(y_test, y_hat))\n",
    "\n",
    "# Accuracy Score\n",
    "print(\"Accuracy Score: {}\".format(accuracy_score(y_test, y_hat)))\n",
    "\n",
    "# Precision Score\n",
    "print(\"Precision Score: {}\".format(precision_score(y_test, y_hat)))\n",
    "\n",
    "# Recall Score\n",
    "print(\"Recall Score: {}\".format(recall_score(y_test, y_hat)))\n",
    "\n",
    "# F1 Score\n",
    "print(\"F1 Score: {}\".format(f1_score(y_test, y_hat)))\n",
    "\n",
    "print(results_report)"
   ]
  },
  {
   "cell_type": "markdown",
   "id": "a4d336ae",
   "metadata": {},
   "source": [
    "# Plots"
   ]
  },
  {
   "cell_type": "code",
   "execution_count": null,
   "id": "a5674eb9",
   "metadata": {},
   "outputs": [],
   "source": [
    "# ROC Curve\n",
    "from sklearn.metrics import RocCurveDisplay\n",
    "\n",
    "RocCurveDisplay.from_predictions(y_test, y_pred_proba[:, 1], color='yellowgreen')"
   ]
  },
  {
   "cell_type": "code",
   "execution_count": null,
   "id": "996c17d0",
   "metadata": {},
   "outputs": [],
   "source": [
    "# Precision vs Recall Curve\n",
    "from sklearn.metrics import PrecisionRecallDisplay\n",
    "\n",
    "PrecisionRecallDisplay.from_predictions(y_test, y_pred_proba[:, 1], color='yellowgreen')"
   ]
  },
  {
   "cell_type": "code",
   "execution_count": null,
   "id": "9d178855",
   "metadata": {},
   "outputs": [],
   "source": [
    "# Calibration Curve\n",
    "\n",
    "from sklearn.calibration import calibration_curve\n",
    "import matplotlib.pyplot as plt\n",
    "\n",
    "# Strategy Uniform\n",
    "prob_true1, prob_pred1 = calibration_curve(y_test, y_pred_proba[:,1], strategy = 'uniform')\n",
    "\n",
    "# Strategy Quantile\n",
    "prob_true2, prob_pred2 = calibration_curve(y_test, y_pred_proba[:,1], strategy = 'quantile')\n",
    "\n",
    "plt.plot(prob_pred1, prob_true1, label='Strategy: Uniform', color='yellowgreen')\n",
    "plt.plot(prob_pred2, prob_true2, label='Strategy: Quantile', color='darkolivegreen')\n",
    "plt.ylabel('True')\n",
    "plt.xlabel('Prediction')\n",
    "plt.legend(loc='best')\n",
    "plt.show()"
   ]
  }
 ],
 "metadata": {
  "kernelspec": {
   "display_name": "Python 3 (ipykernel)",
   "language": "python",
   "name": "python3"
  },
  "language_info": {
   "codemirror_mode": {
    "name": "ipython",
    "version": 3
   },
   "file_extension": ".py",
   "mimetype": "text/x-python",
   "name": "python",
   "nbconvert_exporter": "python",
   "pygments_lexer": "ipython3",
   "version": "3.9.12"
  }
 },
 "nbformat": 4,
 "nbformat_minor": 5
}
